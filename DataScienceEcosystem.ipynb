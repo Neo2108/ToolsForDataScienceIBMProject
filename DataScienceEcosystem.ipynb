{
 "cells": [
  {
   "cell_type": "markdown",
   "id": "cc599aed-9624-43c6-a3a2-ae54526b7fb0",
   "metadata": {},
   "source": [
    "# Data Science Tools and Ecosystem"
   ]
  },
  {
   "cell_type": "markdown",
   "id": "e1499b54-24a0-42fc-9781-91ff6eae7ab9",
   "metadata": {},
   "source": [
    "In this notebook, Data Science Tools and Ecosystem are summarized."
   ]
  },
  {
   "cell_type": "markdown",
   "id": "bacf76ed-3c78-4b69-b5ee-704ff65df114",
   "metadata": {},
   "source": [
    "__Objectives__\n",
    "* Be able to title with different types of headings\n",
    "* List common languages used in data science\n",
    "* List common libraries used in data science"
   ]
  },
  {
   "cell_type": "markdown",
   "id": "a7e42d06-6089-4772-9580-9600aa34814e",
   "metadata": {},
   "source": [
    "Some of the popular languages that Data Scientists use are:\n",
    "\n",
    "1. Python\n",
    "2. R\n",
    "3. SQL"
   ]
  },
  {
   "cell_type": "markdown",
   "id": "e0d402da-3399-4622-ba9b-cbed7230f317",
   "metadata": {},
   "source": [
    "Some of the commonly used libraries used by Data Scientists include:\n",
    "\n",
    "1. TensorFlow\n",
    "2. NumPy\n",
    "3. Scikit-Learn "
   ]
  },
  {
   "cell_type": "markdown",
   "id": "9798a858-7d8a-42c9-8812-c220a503fc5a",
   "metadata": {},
   "source": [
    "|Data Science Tools|\n",
    "|---|\n",
    "|SAS|\n",
    "|Anaconda|\n",
    "|RStudio|"
   ]
  },
  {
   "cell_type": "markdown",
   "id": "4728ecbb-98cc-4f4b-a7c7-12d1a4fe76b8",
   "metadata": {},
   "source": [
    "### Below are a few examples of evaluating arithmetic expressions in Python:"
   ]
  },
  {
   "cell_type": "code",
   "execution_count": 39,
   "id": "25a8d4ef-6de2-416a-8453-67ef6b47a815",
   "metadata": {},
   "outputs": [
    {
     "data": {
      "text/plain": [
       "17"
      ]
     },
     "execution_count": 39,
     "metadata": {},
     "output_type": "execute_result"
    }
   ],
   "source": [
    "#This a simple arithmetic expression to mutiply then add integers\n",
    "(3*4)+5"
   ]
  },
  {
   "cell_type": "code",
   "execution_count": 3,
   "id": "c55dd7e4-ac51-4b95-b8d5-e67f9c152b94",
   "metadata": {},
   "outputs": [
    {
     "data": {
      "text/plain": [
       "3.3333333333333335"
      ]
     },
     "execution_count": 3,
     "metadata": {},
     "output_type": "execute_result"
    }
   ],
   "source": [
    "#This will convert 200 minutes to hours by diving by 60\n",
    "200/60"
   ]
  },
  {
   "cell_type": "markdown",
   "id": "5d4ebe49-9b58-4f3b-b431-56d4c9f03c8d",
   "metadata": {},
   "source": [
    "### Author"
   ]
  },
  {
   "cell_type": "markdown",
   "id": "afa81877-0be9-4fa2-9af1-34a44a61702b",
   "metadata": {},
   "source": [
    "Nischae Tiwari"
   ]
  }
 ],
 "metadata": {
  "kernelspec": {
   "display_name": "Python 3 (ipykernel)",
   "language": "python",
   "name": "python3"
  },
  "language_info": {
   "codemirror_mode": {
    "name": "ipython",
    "version": 3
   },
   "file_extension": ".py",
   "mimetype": "text/x-python",
   "name": "python",
   "nbconvert_exporter": "python",
   "pygments_lexer": "ipython3",
   "version": "3.12.4"
  }
 },
 "nbformat": 4,
 "nbformat_minor": 5
}
